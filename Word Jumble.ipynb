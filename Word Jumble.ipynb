{
 "cells": [
  {
   "cell_type": "code",
   "execution_count": 51,
   "id": "a01adb60",
   "metadata": {},
   "outputs": [
    {
     "name": "stdout",
     "output_type": "stream",
     "text": [
      "Would you like to play Word Jumble? (y/n): y\n",
      "Choose a level 1,2,3: \n",
      "1\n",
      "Level one (hint:animal)\n",
      "Jumbled word: erab\n",
      "Enter your guess: \n",
      "rabbit\n",
      "Incorrect\n",
      "Try again: \n",
      "bear\n",
      "Correct! Great Job!\n",
      "\n",
      "Would you like to play Word Jumble? (y/n): y\n",
      "Choose a level 1,2,3: \n",
      "2\n",
      "Level two (hint:fruit)\n",
      "Jumbled word: trsrbeyraw\n",
      "Enter your guess: \n",
      "strawberry\n",
      "Correct! Great Job!\n",
      "\n",
      "Would you like to play Word Jumble? (y/n): y\n",
      "Choose a level 1,2,3: \n",
      "3\n",
      "Level three (hint:flower)\n",
      "Jumbled word: dsyai\n",
      "Enter your guess: \n",
      "daisy\n",
      "Correct! Great Job!\n",
      "\n",
      "Would you like to play Word Jumble? (y/n): n\n"
     ]
    }
   ],
   "source": [
    "import random #allows computer to choose a random word within the level\n",
    "\n",
    "level1=['dog','cat','bear','fish','lion']\n",
    "level2=['apple','banana','grape','strawberry','blueberry']\n",
    "level3=['daisy','sunflower','lilacs','tulip','carnation'] #create the three different levels by putting them into a list\n",
    "def jumble_word(word):\n",
    "    jumbled = \"\".join(random.sample(word, len(word)))\n",
    "    return jumbled #this is where you jumble the word. Random.sample() scatters the letters of the word\n",
    "\n",
    "def play_game(levels):\n",
    "    word=random.choice(levels) #random.choice() is used to pick a word from whichever level the user chooses\n",
    "    jumble=jumble_word(word) #This is where the function jumble_word is used to jumble the random word chosen\n",
    "    print(\"Jumbled word:\", jumble)\n",
    "    guess=input(\"Enter your guess: \\n\")\n",
    "    while guess.lower()!=word.lower():\n",
    "        print(\"Incorrect\")\n",
    "        guess=input(\"Try again: \\n\")\n",
    "    print(\"Correct! Great Job!\\n\") #This is where the user enters their answer and the computer tells them if they are right or wrong\n",
    "\n",
    "def game():\n",
    "    level=input(\"Choose a level 1,2,3: \\n\") #This is used to ask the user what level they want to play\n",
    "    if level==\"1\":\n",
    "        print(\"Level one (hint:animal)\")\n",
    "        play_game(level1)\n",
    "    elif level==\"2\":\n",
    "        print(\"Level two (hint:fruit)\")\n",
    "        play_game(level2)\n",
    "    elif level==\"3\":\n",
    "        print(\"Level three (hint:flower)\")\n",
    "        play_game(level3)\n",
    "    else:\n",
    "        print(\"Invalid input\") #These if statements are used to apply the level to the users choice and also giving them a hint\n",
    "while True:\n",
    "    play_again = input(\"Would you like to play Word Jumble? (y/n): \")\n",
    "    if play_again.lower()=='y':\n",
    "        game()\n",
    "    elif play_again.lower() != 'y':\n",
    "        break #This while loop is used to allow the user to play as many times as they want\n",
    "    \n"
   ]
  },
  {
   "cell_type": "code",
   "execution_count": null,
   "id": "4a0b8218",
   "metadata": {},
   "outputs": [],
   "source": []
  }
 ],
 "metadata": {
  "kernelspec": {
   "display_name": "Python 3 (ipykernel)",
   "language": "python",
   "name": "python3"
  },
  "language_info": {
   "codemirror_mode": {
    "name": "ipython",
    "version": 3
   },
   "file_extension": ".py",
   "mimetype": "text/x-python",
   "name": "python",
   "nbconvert_exporter": "python",
   "pygments_lexer": "ipython3",
   "version": "3.9.13"
  }
 },
 "nbformat": 4,
 "nbformat_minor": 5
}
